{
 "cells": [
  {
   "cell_type": "markdown",
   "metadata": {
    "toc": true
   },
   "source": [
    "<h1>Table of Contents<span class=\"tocSkip\"></span></h1>\n",
    "<div class=\"toc\"><ul class=\"toc-item\"><li><span><a href=\"#Import-required-libraries-and-set-configurations\" data-toc-modified-id=\"Import-required-libraries-and-set-configurations-1\"><span class=\"toc-item-num\">1&nbsp;&nbsp;</span>Import required libraries and set configurations</a></span></li><li><span><a href=\"#Import-required-dataset\" data-toc-modified-id=\"Import-required-dataset-2\"><span class=\"toc-item-num\">2&nbsp;&nbsp;</span>Import required dataset</a></span></li><li><span><a href=\"#Train/Test-split\" data-toc-modified-id=\"Train/Test-split-3\"><span class=\"toc-item-num\">3&nbsp;&nbsp;</span>Train/Test split</a></span></li><li><span><a href=\"#Specify-X-and-y-for-train-and-test\" data-toc-modified-id=\"Specify-X-and-y-for-train-and-test-4\"><span class=\"toc-item-num\">4&nbsp;&nbsp;</span>Specify X and y for train and test</a></span></li><li><span><a href=\"#Feature-selection\" data-toc-modified-id=\"Feature-selection-5\"><span class=\"toc-item-num\">5&nbsp;&nbsp;</span>Feature selection</a></span></li><li><span><a href=\"#Scale-the-appropriate-columns\" data-toc-modified-id=\"Scale-the-appropriate-columns-6\"><span class=\"toc-item-num\">6&nbsp;&nbsp;</span>Scale the appropriate columns</a></span></li><li><span><a href=\"#Model-build\" data-toc-modified-id=\"Model-build-7\"><span class=\"toc-item-num\">7&nbsp;&nbsp;</span>Model build</a></span><ul class=\"toc-item\"><li><span><a href=\"#Ridge\" data-toc-modified-id=\"Ridge-7.1\"><span class=\"toc-item-num\">7.1&nbsp;&nbsp;</span>Ridge</a></span></li><li><span><a href=\"#SVM\" data-toc-modified-id=\"SVM-7.2\"><span class=\"toc-item-num\">7.2&nbsp;&nbsp;</span>SVM</a></span></li><li><span><a href=\"#XGBoost\" data-toc-modified-id=\"XGBoost-7.3\"><span class=\"toc-item-num\">7.3&nbsp;&nbsp;</span>XGBoost</a></span></li><li><span><a href=\"#LightGBM\" data-toc-modified-id=\"LightGBM-7.4\"><span class=\"toc-item-num\">7.4&nbsp;&nbsp;</span>LightGBM</a></span></li><li><span><a href=\"#Random-Forest\" data-toc-modified-id=\"Random-Forest-7.5\"><span class=\"toc-item-num\">7.5&nbsp;&nbsp;</span>Random Forest</a></span></li><li><span><a href=\"#Stacking\" data-toc-modified-id=\"Stacking-7.6\"><span class=\"toc-item-num\">7.6&nbsp;&nbsp;</span>Stacking</a></span></li></ul></li><li><span><a href=\"#Model-results\" data-toc-modified-id=\"Model-results-8\"><span class=\"toc-item-num\">8&nbsp;&nbsp;</span>Model results</a></span></li><li><span><a href=\"#Model-analysis\" data-toc-modified-id=\"Model-analysis-9\"><span class=\"toc-item-num\">9&nbsp;&nbsp;</span>Model analysis</a></span><ul class=\"toc-item\"><li><span><a href=\"#Analysis-of-features-of-best-model\" data-toc-modified-id=\"Analysis-of-features-of-best-model-9.1\"><span class=\"toc-item-num\">9.1&nbsp;&nbsp;</span>Analysis of features of best model</a></span></li><li><span><a href=\"#Analysis-of-hyperparameters-of-best-model\" data-toc-modified-id=\"Analysis-of-hyperparameters-of-best-model-9.2\"><span class=\"toc-item-num\">9.2&nbsp;&nbsp;</span>Analysis of hyperparameters of best model</a></span></li></ul></li></ul></div>"
   ]
  },
  {
   "cell_type": "markdown",
   "metadata": {},
   "source": [
    "### Import required libraries and set configurations"
   ]
  },
  {
   "cell_type": "code",
   "execution_count": 1,
   "metadata": {},
   "outputs": [],
   "source": [
    "# Import required libraries\n",
    "import os\n",
    "import swifter\n",
    "import numpy as np\n",
    "import pandas as pd\n",
    "import matplotlib.pyplot as plt\n",
    "import warnings\n",
    "warnings.filterwarnings(\"ignore\")"
   ]
  },
  {
   "cell_type": "code",
   "execution_count": 2,
   "metadata": {},
   "outputs": [],
   "source": [
    "from sklearn.metrics import mean_squared_error\n",
    "from xgboost import XGBRegressor\n",
    "from xgboost import plot_importance\n",
    "from lightgbm import LGBMRegressor\n",
    "from dask.distributed import Client\n",
    "from dask_searchcv import GridSearchCV as dgcv\n",
    "from dask.diagnostics import ProgressBar\n",
    "from sklearn.model_selection import GridSearchCV as sgcv\n",
    "from sklearn.ensemble import RandomForestRegressor\n",
    "from sklearn .linear_model import Ridge\n",
    "from sklearn.svm import SVR\n",
    "from sklearn.externals import joblib\n",
    "from sklearn.externals.joblib import parallel_backend\n",
    "from sklearn.metrics.scorer import make_scorer\n",
    "from sklearn.metrics import mean_squared_error\n",
    "from sklearn.feature_selection import VarianceThreshold"
   ]
  },
  {
   "cell_type": "code",
   "execution_count": 3,
   "metadata": {},
   "outputs": [],
   "source": [
    "# Set configuration variables\n",
    "%matplotlib inline\n",
    "plt.style.use('seaborn-notebook')\n",
    "DATA_OUTPUT = '../data/processed/'\n",
    "MODEL_OUTPUT = '../models/'\n",
    "client = Client()"
   ]
  },
  {
   "cell_type": "code",
   "execution_count": 4,
   "metadata": {},
   "outputs": [],
   "source": [
    "# Evaluation metric\n",
    "def rmse(y_true, y_pred):\n",
    "    '''Function to calculate root mean square error'''\n",
    "    y_true, y_pred = np.array(y_true), np.array(y_pred)\n",
    "    return(np.sqrt(mean_squared_error(y_true, y_pred)))"
   ]
  },
  {
   "cell_type": "code",
   "execution_count": 5,
   "metadata": {},
   "outputs": [],
   "source": [
    "def mape(y_true, y_pred): \n",
    "    '''Function to calculate mean absolute percent error'''\n",
    "    y_true, y_pred = np.array(y_true), np.array(y_pred)\n",
    "    return np.mean(np.abs((y_true - y_pred) / y_true)) * 100"
   ]
  },
  {
   "cell_type": "code",
   "execution_count": 6,
   "metadata": {},
   "outputs": [],
   "source": [
    "def display_metrics(y_train_true, y_train_pred, y_test_true, y_test_pred):\n",
    "    '''Function to display rmse and mape of train and test'''\n",
    "    rmse_train = rmse(y_train_true, y_train_pred)\n",
    "    rmse_test = rmse(y_test_true, y_test_pred)\n",
    "    mape_train = mape(y_train_true, y_train_pred)\n",
    "    mape_test = mape(y_test_true, y_test_pred)\n",
    "    \n",
    "    print('RMSE of train is : ', rmse_train)\n",
    "    print('RMSE of test is : ', rmse_test)\n",
    "    print('\\nMAPE of train is : ', mape_train)\n",
    "    print('MAPE of test is : ', mape_test)"
   ]
  },
  {
   "cell_type": "code",
   "execution_count": 7,
   "metadata": {},
   "outputs": [],
   "source": [
    "# Lists to append results to\n",
    "model_name = []\n",
    "train_rmse = []\n",
    "test_rmse = []\n",
    "train_mape = []\n",
    "test_mape = []"
   ]
  },
  {
   "cell_type": "markdown",
   "metadata": {},
   "source": [
    "### Import required dataset"
   ]
  },
  {
   "cell_type": "code",
   "execution_count": 8,
   "metadata": {},
   "outputs": [
    {
     "name": "stdout",
     "output_type": "stream",
     "text": [
      "Shape of the dataframe is :  (6798, 175)\n"
     ]
    }
   ],
   "source": [
    "# Read the pickle file\n",
    "df = pd.read_pickle(os.path.join(DATA_OUTPUT, \"master.pickle\"))\n",
    "\n",
    "# Check the shape of the file for consistency\n",
    "print(\"Shape of the dataframe is : \", df.shape)"
   ]
  },
  {
   "cell_type": "markdown",
   "metadata": {},
   "source": [
    "### Train/Test split\n",
    "\n",
    "The time frame of the data is from Apr-Sept. There are only few records of Apr (around 3-4). We shall be excluding them. The train data would consist of data from Months May-Aug, while test data would be Sep data."
   ]
  },
  {
   "cell_type": "code",
   "execution_count": 9,
   "metadata": {},
   "outputs": [
    {
     "name": "stdout",
     "output_type": "stream",
     "text": [
      "Shape of the training data is :  (6601, 175)\n",
      "Shape of the testing data is :  (194, 175)\n"
     ]
    }
   ],
   "source": [
    "# Split into train/test\n",
    "train = df[df.index.str.contains(\"May|June|July|August\")]\n",
    "test = df[df.index.str.contains(\"September\")]\n",
    "\n",
    "# Print the dimensions of the train and test\n",
    "print(\"Shape of the training data is : \", train.shape)\n",
    "print(\"Shape of the testing data is : \", test.shape)"
   ]
  },
  {
   "cell_type": "markdown",
   "metadata": {},
   "source": [
    "### Specify X and y for train and test"
   ]
  },
  {
   "cell_type": "code",
   "execution_count": 10,
   "metadata": {},
   "outputs": [],
   "source": [
    "# Specify target\n",
    "target_cols = \"TotalSellingPrice\""
   ]
  },
  {
   "cell_type": "code",
   "execution_count": 11,
   "metadata": {},
   "outputs": [],
   "source": [
    "# For train\n",
    "X_train = train.copy().drop(target_cols, axis=1)\n",
    "y_train = train[target_cols].tolist()\n",
    "\n",
    "# For test\n",
    "X_test = test.copy().drop(target_cols, axis=1)\n",
    "y_test = test[target_cols].tolist()"
   ]
  },
  {
   "cell_type": "markdown",
   "metadata": {},
   "source": [
    "### Feature selection\n",
    "\n",
    "We shall be removing variables which dont have at least 10 percent of variance."
   ]
  },
  {
   "cell_type": "code",
   "execution_count": 12,
   "metadata": {},
   "outputs": [],
   "source": [
    "# Select the threshold\n",
    "fs = VarianceThreshold(threshold=.1)\n",
    "\n",
    "# Select features \n",
    "fs.fit(X_train)\n",
    "X_train = X_train[X_train.columns[fs.get_support(indices=True)]]\n",
    "X_test = X_test[X_test.columns[fs.get_support(indices=True)]]"
   ]
  },
  {
   "cell_type": "code",
   "execution_count": 13,
   "metadata": {},
   "outputs": [
    {
     "data": {
      "text/plain": [
       "['NominalofPulsa',\n",
       " 'Lag1',\n",
       " 'OutletSize_Medium (> 10 -  20 mio/month)',\n",
       " 'OutletSize_Small (5 - 10 mio/month)',\n",
       " 'OutletBranding_Non-Branding',\n",
       " 'OutletLocation_Crowded Settlement  ',\n",
       " 'OutletLocation_Less crowded settlement',\n",
       " 'SUBREGION_Inner Jabo',\n",
       " 'SUBREGION_Outer Jabo',\n",
       " 'Period_9',\n",
       " 'Period_10',\n",
       " 'Typeofpack_Kartu Perdana - regular',\n",
       " 'Typeofpack_Voucher Elektronik - Paket Internet',\n",
       " 'Typeofpack_Voucher Elektronik - Paket SMS',\n",
       " 'Typeofpack_Voucher Fisik - Paket Internet',\n",
       " 'Typeofpack_Voucher Fisik - Pulsa',\n",
       " 'Brand_LOOP',\n",
       " 'Brand_SMARTFREN']"
      ]
     },
     "execution_count": 13,
     "metadata": {},
     "output_type": "execute_result"
    }
   ],
   "source": [
    "# Output selected features\n",
    "X_train.columns.tolist()"
   ]
  },
  {
   "cell_type": "markdown",
   "metadata": {},
   "source": [
    "### Scale the appropriate columns\n",
    "\n",
    "We shall be scalling **NominalofPulsa**. We shall not be scaling the lag variable."
   ]
  },
  {
   "cell_type": "code",
   "execution_count": 14,
   "metadata": {},
   "outputs": [],
   "source": [
    "# Specify which columns to scale\n",
    "scale_cols = ['NominalofPulsa']"
   ]
  },
  {
   "cell_type": "code",
   "execution_count": 15,
   "metadata": {},
   "outputs": [],
   "source": [
    "# Loop structure to account for versatility, i.e. if there are more columns to scale then append to list above\n",
    "for i in scale_cols:\n",
    "    mean = X_train[i].mean()\n",
    "    std = X_train[i].std()\n",
    "    X_train[i] = X_train[i].swifter.apply(lambda x : ((x-mean)/std))\n",
    "    X_test[i] = X_test[i].swifter.apply(lambda x : ((x-mean)/std))"
   ]
  },
  {
   "cell_type": "code",
   "execution_count": 16,
   "metadata": {},
   "outputs": [],
   "source": [
    "# Drop the indexes\n",
    "X_train = X_train.reset_index(drop=True)\n",
    "X_test = X_test.reset_index(drop=True)"
   ]
  },
  {
   "cell_type": "code",
   "execution_count": 17,
   "metadata": {},
   "outputs": [
    {
     "data": {
      "text/plain": [
       "['../data/processed/y_test.pickle']"
      ]
     },
     "execution_count": 17,
     "metadata": {},
     "output_type": "execute_result"
    }
   ],
   "source": [
    "# Pickle the train and test data\n",
    "joblib.dump(X_train, os.path.join(DATA_OUTPUT, \"X_train.pickle\"))\n",
    "joblib.dump(y_train, os.path.join(DATA_OUTPUT, \"y_train.pickle\"))\n",
    "joblib.dump(X_test, os.path.join(DATA_OUTPUT, \"X_test.pickle\"))\n",
    "joblib.dump(y_test, os.path.join(DATA_OUTPUT, \"y_test.pickle\"))"
   ]
  },
  {
   "cell_type": "markdown",
   "metadata": {},
   "source": [
    "### Model build\n",
    "\n",
    "We shall be doing hyper parameter tuning with cross validation Also to optimize for efficiency, we shall be utilizing dask for grid search as it removes some amount of overhead which cannot be avoided with sklearns version of grid search."
   ]
  },
  {
   "cell_type": "markdown",
   "metadata": {},
   "source": [
    "#### Ridge"
   ]
  },
  {
   "cell_type": "code",
   "execution_count": 18,
   "metadata": {},
   "outputs": [
    {
     "name": "stdout",
     "output_type": "stream",
     "text": [
      "[########################################] | 100% Completed |  7.8s\n"
     ]
    }
   ],
   "source": [
    "# Specify parameters to tune on\n",
    "params = dict(alpha = [0.01, 0.1, 1, 10, 100], \n",
    "              solver = ['auto', 'svd', 'cholesky', 'lsqr', 'sparse_cg', 'sag', 'saga'])\n",
    "\n",
    "# Intialize the model\n",
    "estimator = Ridge()\n",
    "\n",
    "# Initize the grid\n",
    "grid = dgcv(estimator, \n",
    "            params,\n",
    "            scoring=make_scorer(mape, greater_is_better=False),\n",
    "            n_jobs=-1,\n",
    "            cv=5)\n",
    "\n",
    "# Fit the grid\n",
    "with ProgressBar():\n",
    "    grid.fit(X_train, y_train)"
   ]
  },
  {
   "cell_type": "code",
   "execution_count": 19,
   "metadata": {},
   "outputs": [
    {
     "data": {
      "text/plain": [
       "['../models/rdg.pickle']"
      ]
     },
     "execution_count": 19,
     "metadata": {},
     "output_type": "execute_result"
    }
   ],
   "source": [
    "# Select best model parameters\n",
    "model = grid.best_estimator_\n",
    "joblib.dump(model, os.path.join(MODEL_OUTPUT, 'rdg.pickle'))"
   ]
  },
  {
   "cell_type": "code",
   "execution_count": 20,
   "metadata": {},
   "outputs": [],
   "source": [
    "# Training predictions\n",
    "train_pred = model.predict(X_train)\n",
    "\n",
    "# Testing predictions\n",
    "test_pred = model.predict(X_test)"
   ]
  },
  {
   "cell_type": "code",
   "execution_count": 21,
   "metadata": {},
   "outputs": [
    {
     "name": "stdout",
     "output_type": "stream",
     "text": [
      "RMSE of train is :  2199.5388820981048\n",
      "RMSE of test is :  1118.384320853857\n",
      "\n",
      "MAPE of train is :  30.56459777046239\n",
      "MAPE of test is :  433.38653684869246\n"
     ]
    }
   ],
   "source": [
    "# Display metrics\n",
    "display_metrics(y_train, train_pred, y_test, test_pred)"
   ]
  },
  {
   "cell_type": "code",
   "execution_count": 22,
   "metadata": {},
   "outputs": [],
   "source": [
    "# Record results\n",
    "model_name.append('Ridge')\n",
    "train_rmse.append(rmse(y_train, train_pred))\n",
    "test_rmse.append(rmse(y_test, test_pred))\n",
    "train_mape.append(mape(y_train, train_pred))\n",
    "test_mape.append(mape(y_test, test_pred))"
   ]
  },
  {
   "cell_type": "markdown",
   "metadata": {},
   "source": [
    "#### SVM"
   ]
  },
  {
   "cell_type": "code",
   "execution_count": 23,
   "metadata": {},
   "outputs": [
    {
     "name": "stdout",
     "output_type": "stream",
     "text": [
      "[########################################] | 100% Completed |  1min  2.2s\n"
     ]
    }
   ],
   "source": [
    "# Specify parameters to tune on\n",
    "params = dict(C = [0.01, 0.1, 1, 10],\n",
    "              gamma = [0.01, 0.1, 1])\n",
    "\n",
    "# Intialize the model\n",
    "estimator = SVR(kernel='rbf')\n",
    "\n",
    "# Initize the grid\n",
    "grid = dgcv(estimator, \n",
    "            params,\n",
    "            scoring=make_scorer(mape, greater_is_better=False),\n",
    "            n_jobs=-1,\n",
    "            cv=5)\n",
    "\n",
    "# Fit the grid\n",
    "with ProgressBar():\n",
    "    grid.fit(X_train, y_train)"
   ]
  },
  {
   "cell_type": "code",
   "execution_count": 24,
   "metadata": {},
   "outputs": [
    {
     "data": {
      "text/plain": [
       "['../models/svr.pickle']"
      ]
     },
     "execution_count": 24,
     "metadata": {},
     "output_type": "execute_result"
    }
   ],
   "source": [
    "# Select best model parameters\n",
    "model = grid.best_estimator_\n",
    "joblib.dump(model, os.path.join(MODEL_OUTPUT, 'svr.pickle'))"
   ]
  },
  {
   "cell_type": "code",
   "execution_count": 25,
   "metadata": {},
   "outputs": [],
   "source": [
    "# Training predictions\n",
    "train_pred = model.predict(X_train)\n",
    "\n",
    "# Testing predictions\n",
    "test_pred = model.predict(X_test)"
   ]
  },
  {
   "cell_type": "code",
   "execution_count": 26,
   "metadata": {},
   "outputs": [
    {
     "name": "stdout",
     "output_type": "stream",
     "text": [
      "RMSE of train is :  9393.06205717877\n",
      "RMSE of test is :  7740.109943784542\n",
      "\n",
      "MAPE of train is :  457.47674746359655\n",
      "MAPE of test is :  4091.214371607282\n"
     ]
    }
   ],
   "source": [
    "# Display metrics\n",
    "display_metrics(y_train, train_pred, y_test, test_pred)"
   ]
  },
  {
   "cell_type": "code",
   "execution_count": 27,
   "metadata": {},
   "outputs": [],
   "source": [
    "# Record results\n",
    "model_name.append('Support Vector Machines')\n",
    "train_rmse.append(rmse(y_train, train_pred))\n",
    "test_rmse.append(rmse(y_test, test_pred))\n",
    "train_mape.append(mape(y_train, train_pred))\n",
    "test_mape.append(mape(y_test, test_pred))"
   ]
  },
  {
   "cell_type": "markdown",
   "metadata": {},
   "source": [
    "#### XGBoost"
   ]
  },
  {
   "cell_type": "code",
   "execution_count": 28,
   "metadata": {},
   "outputs": [
    {
     "name": "stdout",
     "output_type": "stream",
     "text": [
      "[########################################] | 100% Completed | 42.0s\n"
     ]
    }
   ],
   "source": [
    "# Specify parameters to tune on\n",
    "params = dict(n_estimators = [50, 100, 200], \n",
    "              max_depth = [3, 6, 10],\n",
    "              gamma = [0.1, 0.2, 0.3])\n",
    "\n",
    "# Intialize the model\n",
    "estimator = XGBRegressor(random_state=1, \n",
    "                         n_jobs=-1, \n",
    "                         subsample = 0.70, \n",
    "                         colsample_bytree=0.7, \n",
    "                         eta=0.05,\n",
    "                         objective='reg:tweedie' \n",
    "                        )\n",
    "\n",
    "# Initize the grid\n",
    "grid = dgcv(estimator, \n",
    "            params,\n",
    "            scoring=make_scorer(mape, greater_is_better=False),\n",
    "            n_jobs=-1,\n",
    "            cv=5)\n",
    "\n",
    "# Fit the grid\n",
    "with ProgressBar():\n",
    "    grid.fit(X_train, y_train)"
   ]
  },
  {
   "cell_type": "code",
   "execution_count": 29,
   "metadata": {},
   "outputs": [
    {
     "data": {
      "text/plain": [
       "['../models/xgb.pickle']"
      ]
     },
     "execution_count": 29,
     "metadata": {},
     "output_type": "execute_result"
    }
   ],
   "source": [
    "# Select best model parameters\n",
    "model = grid.best_estimator_\n",
    "joblib.dump(model, os.path.join(MODEL_OUTPUT, 'xgb.pickle'))"
   ]
  },
  {
   "cell_type": "code",
   "execution_count": 30,
   "metadata": {},
   "outputs": [],
   "source": [
    "# Training predictions\n",
    "train_pred = model.predict(X_train)\n",
    "\n",
    "# Testing predictions\n",
    "test_pred = model.predict(X_test)"
   ]
  },
  {
   "cell_type": "code",
   "execution_count": 31,
   "metadata": {},
   "outputs": [
    {
     "name": "stdout",
     "output_type": "stream",
     "text": [
      "RMSE of train is :  345.4025782025571\n",
      "RMSE of test is :  132.34906336973583\n",
      "\n",
      "MAPE of train is :  3.435205477609686\n",
      "MAPE of test is :  15.6815028039265\n"
     ]
    }
   ],
   "source": [
    "# Display metrics\n",
    "display_metrics(y_train, train_pred, y_test, test_pred)"
   ]
  },
  {
   "cell_type": "code",
   "execution_count": 32,
   "metadata": {},
   "outputs": [],
   "source": [
    "# Record results\n",
    "model_name.append('Extreme Gradient Boosting')\n",
    "train_rmse.append(rmse(y_train, train_pred))\n",
    "test_rmse.append(rmse(y_test, test_pred))\n",
    "train_mape.append(mape(y_train, train_pred))\n",
    "test_mape.append(mape(y_test, test_pred))"
   ]
  },
  {
   "cell_type": "markdown",
   "metadata": {},
   "source": [
    "####  LightGBM"
   ]
  },
  {
   "cell_type": "code",
   "execution_count": 33,
   "metadata": {},
   "outputs": [
    {
     "name": "stdout",
     "output_type": "stream",
     "text": [
      "[########################################] | 100% Completed | 48.6s\n"
     ]
    }
   ],
   "source": [
    "# Specify parameters to tune on\n",
    "params = dict(n_estimators = [50, 100, 200], \n",
    "              max_depth = [3, 6, 9],\n",
    "              boosting_type = ['gbdt', 'dart', 'goss'])\n",
    "\n",
    "# Intialize the model\n",
    "estimator = LGBMRegressor(random_state=1, \n",
    "                          subsample=0.70, \n",
    "                          colsample_bytree=0.7,\n",
    "                          eval_metric=\"mape\",\n",
    "                          num_leaves=20)\n",
    "\n",
    "# Initize the grid\n",
    "grid = dgcv(estimator, \n",
    "            params,\n",
    "            n_jobs=-1,\n",
    "            cv=5)\n",
    "\n",
    "# Fit the grid\n",
    "with ProgressBar():\n",
    "    grid.fit(X_train, y_train)"
   ]
  },
  {
   "cell_type": "code",
   "execution_count": 34,
   "metadata": {},
   "outputs": [
    {
     "data": {
      "text/plain": [
       "['../models/lgb.pickle']"
      ]
     },
     "execution_count": 34,
     "metadata": {},
     "output_type": "execute_result"
    }
   ],
   "source": [
    "# Select best model parameters\n",
    "model = grid.best_estimator_\n",
    "joblib.dump(model, os.path.join(MODEL_OUTPUT, 'lgb.pickle'))"
   ]
  },
  {
   "cell_type": "code",
   "execution_count": 35,
   "metadata": {},
   "outputs": [],
   "source": [
    "# Training predictions\n",
    "train_pred = model.predict(X_train)\n",
    "\n",
    "# Testing predictions\n",
    "test_pred = model.predict(X_test)"
   ]
  },
  {
   "cell_type": "code",
   "execution_count": 36,
   "metadata": {},
   "outputs": [
    {
     "name": "stdout",
     "output_type": "stream",
     "text": [
      "RMSE of train is :  519.5866376121858\n",
      "RMSE of test is :  147.24922311260042\n",
      "\n",
      "MAPE of train is :  6.956419698394384\n",
      "MAPE of test is :  73.98831650788526\n"
     ]
    }
   ],
   "source": [
    "# Display metrics\n",
    "display_metrics(y_train, train_pred, y_test, test_pred)"
   ]
  },
  {
   "cell_type": "code",
   "execution_count": 37,
   "metadata": {},
   "outputs": [],
   "source": [
    "# Record results\n",
    "model_name.append('Light Gradient Boosting')\n",
    "train_rmse.append(rmse(y_train, train_pred))\n",
    "test_rmse.append(rmse(y_test, test_pred))\n",
    "train_mape.append(mape(y_train, train_pred))\n",
    "test_mape.append(mape(y_test, test_pred))"
   ]
  },
  {
   "cell_type": "markdown",
   "metadata": {},
   "source": [
    "#### Random Forest"
   ]
  },
  {
   "cell_type": "code",
   "execution_count": 38,
   "metadata": {
    "scrolled": false
   },
   "outputs": [
    {
     "name": "stdout",
     "output_type": "stream",
     "text": [
      "Fitting 5 folds for each of 27 candidates, totalling 135 fits\n",
      "[CV] max_depth=4, max_features=auto, n_estimators=100 ................\n"
     ]
    },
    {
     "name": "stderr",
     "output_type": "stream",
     "text": [
      "[Parallel(n_jobs=1)]: Using backend SequentialBackend with 1 concurrent workers.\n"
     ]
    },
    {
     "name": "stdout",
     "output_type": "stream",
     "text": [
      "[CV] . max_depth=4, max_features=auto, n_estimators=100, total=   0.6s\n",
      "[CV] max_depth=4, max_features=auto, n_estimators=100 ................\n"
     ]
    },
    {
     "name": "stderr",
     "output_type": "stream",
     "text": [
      "[Parallel(n_jobs=1)]: Done   1 out of   1 | elapsed:    0.7s remaining:    0.0s\n"
     ]
    },
    {
     "name": "stdout",
     "output_type": "stream",
     "text": [
      "[CV] . max_depth=4, max_features=auto, n_estimators=100, total=   0.5s\n",
      "[CV] max_depth=4, max_features=auto, n_estimators=100 ................\n",
      "[CV] . max_depth=4, max_features=auto, n_estimators=100, total=   0.5s\n",
      "[CV] max_depth=4, max_features=auto, n_estimators=100 ................\n",
      "[CV] . max_depth=4, max_features=auto, n_estimators=100, total=   0.5s\n",
      "[CV] max_depth=4, max_features=auto, n_estimators=100 ................\n",
      "[CV] . max_depth=4, max_features=auto, n_estimators=100, total=   0.5s\n",
      "[CV] max_depth=4, max_features=auto, n_estimators=250 ................\n",
      "[CV] . max_depth=4, max_features=auto, n_estimators=250, total=   1.3s\n",
      "[CV] max_depth=4, max_features=auto, n_estimators=250 ................\n",
      "[CV] . max_depth=4, max_features=auto, n_estimators=250, total=   1.3s\n",
      "[CV] max_depth=4, max_features=auto, n_estimators=250 ................\n",
      "[CV] . max_depth=4, max_features=auto, n_estimators=250, total=   1.3s\n",
      "[CV] max_depth=4, max_features=auto, n_estimators=250 ................\n",
      "[CV] . max_depth=4, max_features=auto, n_estimators=250, total=   1.5s\n",
      "[CV] max_depth=4, max_features=auto, n_estimators=250 ................\n",
      "[CV] . max_depth=4, max_features=auto, n_estimators=250, total=   1.4s\n",
      "[CV] max_depth=4, max_features=auto, n_estimators=500 ................\n",
      "[CV] . max_depth=4, max_features=auto, n_estimators=500, total=   2.7s\n",
      "[CV] max_depth=4, max_features=auto, n_estimators=500 ................\n",
      "[CV] . max_depth=4, max_features=auto, n_estimators=500, total=   2.6s\n",
      "[CV] max_depth=4, max_features=auto, n_estimators=500 ................\n",
      "[CV] . max_depth=4, max_features=auto, n_estimators=500, total=   2.7s\n",
      "[CV] max_depth=4, max_features=auto, n_estimators=500 ................\n",
      "[CV] . max_depth=4, max_features=auto, n_estimators=500, total=   2.7s\n",
      "[CV] max_depth=4, max_features=auto, n_estimators=500 ................\n",
      "[CV] . max_depth=4, max_features=auto, n_estimators=500, total=   2.7s\n",
      "[CV] max_depth=4, max_features=sqrt, n_estimators=100 ................\n",
      "[CV] . max_depth=4, max_features=sqrt, n_estimators=100, total=   0.2s\n",
      "[CV] max_depth=4, max_features=sqrt, n_estimators=100 ................\n",
      "[CV] . max_depth=4, max_features=sqrt, n_estimators=100, total=   0.2s\n",
      "[CV] max_depth=4, max_features=sqrt, n_estimators=100 ................\n",
      "[CV] . max_depth=4, max_features=sqrt, n_estimators=100, total=   0.2s\n",
      "[CV] max_depth=4, max_features=sqrt, n_estimators=100 ................\n",
      "[CV] . max_depth=4, max_features=sqrt, n_estimators=100, total=   0.2s\n",
      "[CV] max_depth=4, max_features=sqrt, n_estimators=100 ................\n",
      "[CV] . max_depth=4, max_features=sqrt, n_estimators=100, total=   0.2s\n",
      "[CV] max_depth=4, max_features=sqrt, n_estimators=250 ................\n",
      "[CV] . max_depth=4, max_features=sqrt, n_estimators=250, total=   0.5s\n",
      "[CV] max_depth=4, max_features=sqrt, n_estimators=250 ................\n",
      "[CV] . max_depth=4, max_features=sqrt, n_estimators=250, total=   0.5s\n",
      "[CV] max_depth=4, max_features=sqrt, n_estimators=250 ................\n",
      "[CV] . max_depth=4, max_features=sqrt, n_estimators=250, total=   0.6s\n",
      "[CV] max_depth=4, max_features=sqrt, n_estimators=250 ................\n",
      "[CV] . max_depth=4, max_features=sqrt, n_estimators=250, total=   0.5s\n",
      "[CV] max_depth=4, max_features=sqrt, n_estimators=250 ................\n",
      "[CV] . max_depth=4, max_features=sqrt, n_estimators=250, total=   0.5s\n",
      "[CV] max_depth=4, max_features=sqrt, n_estimators=500 ................\n",
      "[CV] . max_depth=4, max_features=sqrt, n_estimators=500, total=   1.1s\n",
      "[CV] max_depth=4, max_features=sqrt, n_estimators=500 ................\n",
      "[CV] . max_depth=4, max_features=sqrt, n_estimators=500, total=   1.1s\n",
      "[CV] max_depth=4, max_features=sqrt, n_estimators=500 ................\n",
      "[CV] . max_depth=4, max_features=sqrt, n_estimators=500, total=   1.1s\n",
      "[CV] max_depth=4, max_features=sqrt, n_estimators=500 ................\n",
      "[CV] . max_depth=4, max_features=sqrt, n_estimators=500, total=   1.1s\n",
      "[CV] max_depth=4, max_features=sqrt, n_estimators=500 ................\n",
      "[CV] . max_depth=4, max_features=sqrt, n_estimators=500, total=   1.1s\n",
      "[CV] max_depth=4, max_features=log2, n_estimators=100 ................\n",
      "[CV] . max_depth=4, max_features=log2, n_estimators=100, total=   0.2s\n",
      "[CV] max_depth=4, max_features=log2, n_estimators=100 ................\n",
      "[CV] . max_depth=4, max_features=log2, n_estimators=100, total=   0.2s\n",
      "[CV] max_depth=4, max_features=log2, n_estimators=100 ................\n",
      "[CV] . max_depth=4, max_features=log2, n_estimators=100, total=   0.2s\n",
      "[CV] max_depth=4, max_features=log2, n_estimators=100 ................\n",
      "[CV] . max_depth=4, max_features=log2, n_estimators=100, total=   0.2s\n",
      "[CV] max_depth=4, max_features=log2, n_estimators=100 ................\n",
      "[CV] . max_depth=4, max_features=log2, n_estimators=100, total=   0.2s\n",
      "[CV] max_depth=4, max_features=log2, n_estimators=250 ................\n",
      "[CV] . max_depth=4, max_features=log2, n_estimators=250, total=   0.5s\n",
      "[CV] max_depth=4, max_features=log2, n_estimators=250 ................\n",
      "[CV] . max_depth=4, max_features=log2, n_estimators=250, total=   0.5s\n",
      "[CV] max_depth=4, max_features=log2, n_estimators=250 ................\n",
      "[CV] . max_depth=4, max_features=log2, n_estimators=250, total=   0.5s\n",
      "[CV] max_depth=4, max_features=log2, n_estimators=250 ................\n",
      "[CV] . max_depth=4, max_features=log2, n_estimators=250, total=   0.5s\n",
      "[CV] max_depth=4, max_features=log2, n_estimators=250 ................\n",
      "[CV] . max_depth=4, max_features=log2, n_estimators=250, total=   0.5s\n",
      "[CV] max_depth=4, max_features=log2, n_estimators=500 ................\n",
      "[CV] . max_depth=4, max_features=log2, n_estimators=500, total=   1.1s\n",
      "[CV] max_depth=4, max_features=log2, n_estimators=500 ................\n",
      "[CV] . max_depth=4, max_features=log2, n_estimators=500, total=   1.1s\n",
      "[CV] max_depth=4, max_features=log2, n_estimators=500 ................\n",
      "[CV] . max_depth=4, max_features=log2, n_estimators=500, total=   1.1s\n",
      "[CV] max_depth=4, max_features=log2, n_estimators=500 ................\n",
      "[CV] . max_depth=4, max_features=log2, n_estimators=500, total=   1.1s\n",
      "[CV] max_depth=4, max_features=log2, n_estimators=500 ................\n",
      "[CV] . max_depth=4, max_features=log2, n_estimators=500, total=   1.1s\n",
      "[CV] max_depth=8, max_features=auto, n_estimators=100 ................\n",
      "[CV] . max_depth=8, max_features=auto, n_estimators=100, total=   1.0s\n",
      "[CV] max_depth=8, max_features=auto, n_estimators=100 ................\n",
      "[CV] . max_depth=8, max_features=auto, n_estimators=100, total=   1.0s\n",
      "[CV] max_depth=8, max_features=auto, n_estimators=100 ................\n",
      "[CV] . max_depth=8, max_features=auto, n_estimators=100, total=   1.0s\n",
      "[CV] max_depth=8, max_features=auto, n_estimators=100 ................\n",
      "[CV] . max_depth=8, max_features=auto, n_estimators=100, total=   1.0s\n",
      "[CV] max_depth=8, max_features=auto, n_estimators=100 ................\n",
      "[CV] . max_depth=8, max_features=auto, n_estimators=100, total=   1.0s\n",
      "[CV] max_depth=8, max_features=auto, n_estimators=250 ................\n",
      "[CV] . max_depth=8, max_features=auto, n_estimators=250, total=   2.4s\n",
      "[CV] max_depth=8, max_features=auto, n_estimators=250 ................\n",
      "[CV] . max_depth=8, max_features=auto, n_estimators=250, total=   2.4s\n",
      "[CV] max_depth=8, max_features=auto, n_estimators=250 ................\n",
      "[CV] . max_depth=8, max_features=auto, n_estimators=250, total=   2.4s\n",
      "[CV] max_depth=8, max_features=auto, n_estimators=250 ................\n",
      "[CV] . max_depth=8, max_features=auto, n_estimators=250, total=   2.4s\n",
      "[CV] max_depth=8, max_features=auto, n_estimators=250 ................\n",
      "[CV] . max_depth=8, max_features=auto, n_estimators=250, total=   2.4s\n",
      "[CV] max_depth=8, max_features=auto, n_estimators=500 ................\n",
      "[CV] . max_depth=8, max_features=auto, n_estimators=500, total=   4.9s\n",
      "[CV] max_depth=8, max_features=auto, n_estimators=500 ................\n",
      "[CV] . max_depth=8, max_features=auto, n_estimators=500, total=   4.8s\n",
      "[CV] max_depth=8, max_features=auto, n_estimators=500 ................\n",
      "[CV] . max_depth=8, max_features=auto, n_estimators=500, total=   4.8s\n",
      "[CV] max_depth=8, max_features=auto, n_estimators=500 ................\n",
      "[CV] . max_depth=8, max_features=auto, n_estimators=500, total=   4.8s\n",
      "[CV] max_depth=8, max_features=auto, n_estimators=500 ................\n"
     ]
    },
    {
     "name": "stdout",
     "output_type": "stream",
     "text": [
      "[CV] . max_depth=8, max_features=auto, n_estimators=500, total=   4.8s\n",
      "[CV] max_depth=8, max_features=sqrt, n_estimators=100 ................\n",
      "[CV] . max_depth=8, max_features=sqrt, n_estimators=100, total=   0.3s\n",
      "[CV] max_depth=8, max_features=sqrt, n_estimators=100 ................\n",
      "[CV] . max_depth=8, max_features=sqrt, n_estimators=100, total=   0.3s\n",
      "[CV] max_depth=8, max_features=sqrt, n_estimators=100 ................\n",
      "[CV] . max_depth=8, max_features=sqrt, n_estimators=100, total=   0.3s\n",
      "[CV] max_depth=8, max_features=sqrt, n_estimators=100 ................\n",
      "[CV] . max_depth=8, max_features=sqrt, n_estimators=100, total=   0.3s\n",
      "[CV] max_depth=8, max_features=sqrt, n_estimators=100 ................\n",
      "[CV] . max_depth=8, max_features=sqrt, n_estimators=100, total=   0.3s\n",
      "[CV] max_depth=8, max_features=sqrt, n_estimators=250 ................\n",
      "[CV] . max_depth=8, max_features=sqrt, n_estimators=250, total=   0.8s\n",
      "[CV] max_depth=8, max_features=sqrt, n_estimators=250 ................\n",
      "[CV] . max_depth=8, max_features=sqrt, n_estimators=250, total=   0.8s\n",
      "[CV] max_depth=8, max_features=sqrt, n_estimators=250 ................\n",
      "[CV] . max_depth=8, max_features=sqrt, n_estimators=250, total=   0.8s\n",
      "[CV] max_depth=8, max_features=sqrt, n_estimators=250 ................\n",
      "[CV] . max_depth=8, max_features=sqrt, n_estimators=250, total=   0.8s\n",
      "[CV] max_depth=8, max_features=sqrt, n_estimators=250 ................\n",
      "[CV] . max_depth=8, max_features=sqrt, n_estimators=250, total=   0.8s\n",
      "[CV] max_depth=8, max_features=sqrt, n_estimators=500 ................\n",
      "[CV] . max_depth=8, max_features=sqrt, n_estimators=500, total=   1.7s\n",
      "[CV] max_depth=8, max_features=sqrt, n_estimators=500 ................\n",
      "[CV] . max_depth=8, max_features=sqrt, n_estimators=500, total=   1.7s\n",
      "[CV] max_depth=8, max_features=sqrt, n_estimators=500 ................\n",
      "[CV] . max_depth=8, max_features=sqrt, n_estimators=500, total=   1.7s\n",
      "[CV] max_depth=8, max_features=sqrt, n_estimators=500 ................\n",
      "[CV] . max_depth=8, max_features=sqrt, n_estimators=500, total=   1.7s\n",
      "[CV] max_depth=8, max_features=sqrt, n_estimators=500 ................\n",
      "[CV] . max_depth=8, max_features=sqrt, n_estimators=500, total=   1.7s\n",
      "[CV] max_depth=8, max_features=log2, n_estimators=100 ................\n",
      "[CV] . max_depth=8, max_features=log2, n_estimators=100, total=   0.3s\n",
      "[CV] max_depth=8, max_features=log2, n_estimators=100 ................\n",
      "[CV] . max_depth=8, max_features=log2, n_estimators=100, total=   0.3s\n",
      "[CV] max_depth=8, max_features=log2, n_estimators=100 ................\n",
      "[CV] . max_depth=8, max_features=log2, n_estimators=100, total=   0.3s\n",
      "[CV] max_depth=8, max_features=log2, n_estimators=100 ................\n",
      "[CV] . max_depth=8, max_features=log2, n_estimators=100, total=   0.3s\n",
      "[CV] max_depth=8, max_features=log2, n_estimators=100 ................\n",
      "[CV] . max_depth=8, max_features=log2, n_estimators=100, total=   0.3s\n",
      "[CV] max_depth=8, max_features=log2, n_estimators=250 ................\n",
      "[CV] . max_depth=8, max_features=log2, n_estimators=250, total=   0.8s\n",
      "[CV] max_depth=8, max_features=log2, n_estimators=250 ................\n",
      "[CV] . max_depth=8, max_features=log2, n_estimators=250, total=   0.8s\n",
      "[CV] max_depth=8, max_features=log2, n_estimators=250 ................\n",
      "[CV] . max_depth=8, max_features=log2, n_estimators=250, total=   0.8s\n",
      "[CV] max_depth=8, max_features=log2, n_estimators=250 ................\n",
      "[CV] . max_depth=8, max_features=log2, n_estimators=250, total=   0.8s\n",
      "[CV] max_depth=8, max_features=log2, n_estimators=250 ................\n",
      "[CV] . max_depth=8, max_features=log2, n_estimators=250, total=   0.8s\n",
      "[CV] max_depth=8, max_features=log2, n_estimators=500 ................\n",
      "[CV] . max_depth=8, max_features=log2, n_estimators=500, total=   1.7s\n",
      "[CV] max_depth=8, max_features=log2, n_estimators=500 ................\n",
      "[CV] . max_depth=8, max_features=log2, n_estimators=500, total=   1.7s\n",
      "[CV] max_depth=8, max_features=log2, n_estimators=500 ................\n",
      "[CV] . max_depth=8, max_features=log2, n_estimators=500, total=   1.7s\n",
      "[CV] max_depth=8, max_features=log2, n_estimators=500 ................\n",
      "[CV] . max_depth=8, max_features=log2, n_estimators=500, total=   1.7s\n",
      "[CV] max_depth=8, max_features=log2, n_estimators=500 ................\n",
      "[CV] . max_depth=8, max_features=log2, n_estimators=500, total=   1.7s\n",
      "[CV] max_depth=12, max_features=auto, n_estimators=100 ...............\n",
      "[CV]  max_depth=12, max_features=auto, n_estimators=100, total=   1.5s\n",
      "[CV] max_depth=12, max_features=auto, n_estimators=100 ...............\n",
      "[CV]  max_depth=12, max_features=auto, n_estimators=100, total=   1.5s\n",
      "[CV] max_depth=12, max_features=auto, n_estimators=100 ...............\n",
      "[CV]  max_depth=12, max_features=auto, n_estimators=100, total=   1.5s\n",
      "[CV] max_depth=12, max_features=auto, n_estimators=100 ...............\n",
      "[CV]  max_depth=12, max_features=auto, n_estimators=100, total=   1.6s\n",
      "[CV] max_depth=12, max_features=auto, n_estimators=100 ...............\n",
      "[CV]  max_depth=12, max_features=auto, n_estimators=100, total=   1.5s\n",
      "[CV] max_depth=12, max_features=auto, n_estimators=250 ...............\n",
      "[CV]  max_depth=12, max_features=auto, n_estimators=250, total=   3.8s\n",
      "[CV] max_depth=12, max_features=auto, n_estimators=250 ...............\n",
      "[CV]  max_depth=12, max_features=auto, n_estimators=250, total=   3.6s\n",
      "[CV] max_depth=12, max_features=auto, n_estimators=250 ...............\n",
      "[CV]  max_depth=12, max_features=auto, n_estimators=250, total=   3.7s\n",
      "[CV] max_depth=12, max_features=auto, n_estimators=250 ...............\n",
      "[CV]  max_depth=12, max_features=auto, n_estimators=250, total=   3.7s\n",
      "[CV] max_depth=12, max_features=auto, n_estimators=250 ...............\n",
      "[CV]  max_depth=12, max_features=auto, n_estimators=250, total=   3.7s\n",
      "[CV] max_depth=12, max_features=auto, n_estimators=500 ...............\n",
      "[CV]  max_depth=12, max_features=auto, n_estimators=500, total=   7.4s\n",
      "[CV] max_depth=12, max_features=auto, n_estimators=500 ...............\n",
      "[CV]  max_depth=12, max_features=auto, n_estimators=500, total=   7.4s\n",
      "[CV] max_depth=12, max_features=auto, n_estimators=500 ...............\n",
      "[CV]  max_depth=12, max_features=auto, n_estimators=500, total=   7.4s\n",
      "[CV] max_depth=12, max_features=auto, n_estimators=500 ...............\n",
      "[CV]  max_depth=12, max_features=auto, n_estimators=500, total=   7.4s\n",
      "[CV] max_depth=12, max_features=auto, n_estimators=500 ...............\n",
      "[CV]  max_depth=12, max_features=auto, n_estimators=500, total=   7.4s\n",
      "[CV] max_depth=12, max_features=sqrt, n_estimators=100 ...............\n",
      "[CV]  max_depth=12, max_features=sqrt, n_estimators=100, total=   0.5s\n",
      "[CV] max_depth=12, max_features=sqrt, n_estimators=100 ...............\n",
      "[CV]  max_depth=12, max_features=sqrt, n_estimators=100, total=   0.5s\n",
      "[CV] max_depth=12, max_features=sqrt, n_estimators=100 ...............\n",
      "[CV]  max_depth=12, max_features=sqrt, n_estimators=100, total=   0.5s\n",
      "[CV] max_depth=12, max_features=sqrt, n_estimators=100 ...............\n",
      "[CV]  max_depth=12, max_features=sqrt, n_estimators=100, total=   0.5s\n",
      "[CV] max_depth=12, max_features=sqrt, n_estimators=100 ...............\n",
      "[CV]  max_depth=12, max_features=sqrt, n_estimators=100, total=   0.5s\n",
      "[CV] max_depth=12, max_features=sqrt, n_estimators=250 ...............\n",
      "[CV]  max_depth=12, max_features=sqrt, n_estimators=250, total=   1.3s\n",
      "[CV] max_depth=12, max_features=sqrt, n_estimators=250 ...............\n",
      "[CV]  max_depth=12, max_features=sqrt, n_estimators=250, total=   1.2s\n",
      "[CV] max_depth=12, max_features=sqrt, n_estimators=250 ...............\n",
      "[CV]  max_depth=12, max_features=sqrt, n_estimators=250, total=   1.2s\n",
      "[CV] max_depth=12, max_features=sqrt, n_estimators=250 ...............\n",
      "[CV]  max_depth=12, max_features=sqrt, n_estimators=250, total=   1.3s\n",
      "[CV] max_depth=12, max_features=sqrt, n_estimators=250 ...............\n",
      "[CV]  max_depth=12, max_features=sqrt, n_estimators=250, total=   1.3s\n",
      "[CV] max_depth=12, max_features=sqrt, n_estimators=500 ...............\n",
      "[CV]  max_depth=12, max_features=sqrt, n_estimators=500, total=   2.5s\n",
      "[CV] max_depth=12, max_features=sqrt, n_estimators=500 ...............\n",
      "[CV]  max_depth=12, max_features=sqrt, n_estimators=500, total=   2.5s\n",
      "[CV] max_depth=12, max_features=sqrt, n_estimators=500 ...............\n"
     ]
    },
    {
     "name": "stdout",
     "output_type": "stream",
     "text": [
      "[CV]  max_depth=12, max_features=sqrt, n_estimators=500, total=   2.5s\n",
      "[CV] max_depth=12, max_features=sqrt, n_estimators=500 ...............\n",
      "[CV]  max_depth=12, max_features=sqrt, n_estimators=500, total=   2.5s\n",
      "[CV] max_depth=12, max_features=sqrt, n_estimators=500 ...............\n",
      "[CV]  max_depth=12, max_features=sqrt, n_estimators=500, total=   2.5s\n",
      "[CV] max_depth=12, max_features=log2, n_estimators=100 ...............\n",
      "[CV]  max_depth=12, max_features=log2, n_estimators=100, total=   0.5s\n",
      "[CV] max_depth=12, max_features=log2, n_estimators=100 ...............\n",
      "[CV]  max_depth=12, max_features=log2, n_estimators=100, total=   0.5s\n",
      "[CV] max_depth=12, max_features=log2, n_estimators=100 ...............\n",
      "[CV]  max_depth=12, max_features=log2, n_estimators=100, total=   0.5s\n",
      "[CV] max_depth=12, max_features=log2, n_estimators=100 ...............\n",
      "[CV]  max_depth=12, max_features=log2, n_estimators=100, total=   0.5s\n",
      "[CV] max_depth=12, max_features=log2, n_estimators=100 ...............\n",
      "[CV]  max_depth=12, max_features=log2, n_estimators=100, total=   0.5s\n",
      "[CV] max_depth=12, max_features=log2, n_estimators=250 ...............\n",
      "[CV]  max_depth=12, max_features=log2, n_estimators=250, total=   1.2s\n",
      "[CV] max_depth=12, max_features=log2, n_estimators=250 ...............\n",
      "[CV]  max_depth=12, max_features=log2, n_estimators=250, total=   1.2s\n",
      "[CV] max_depth=12, max_features=log2, n_estimators=250 ...............\n",
      "[CV]  max_depth=12, max_features=log2, n_estimators=250, total=   1.2s\n",
      "[CV] max_depth=12, max_features=log2, n_estimators=250 ...............\n",
      "[CV]  max_depth=12, max_features=log2, n_estimators=250, total=   1.3s\n",
      "[CV] max_depth=12, max_features=log2, n_estimators=250 ...............\n",
      "[CV]  max_depth=12, max_features=log2, n_estimators=250, total=   1.3s\n",
      "[CV] max_depth=12, max_features=log2, n_estimators=500 ...............\n",
      "[CV]  max_depth=12, max_features=log2, n_estimators=500, total=   2.5s\n",
      "[CV] max_depth=12, max_features=log2, n_estimators=500 ...............\n",
      "[CV]  max_depth=12, max_features=log2, n_estimators=500, total=   2.5s\n",
      "[CV] max_depth=12, max_features=log2, n_estimators=500 ...............\n",
      "[CV]  max_depth=12, max_features=log2, n_estimators=500, total=   2.5s\n",
      "[CV] max_depth=12, max_features=log2, n_estimators=500 ...............\n",
      "[CV]  max_depth=12, max_features=log2, n_estimators=500, total=   2.5s\n",
      "[CV] max_depth=12, max_features=log2, n_estimators=500 ...............\n",
      "[CV]  max_depth=12, max_features=log2, n_estimators=500, total=   2.5s\n"
     ]
    },
    {
     "name": "stderr",
     "output_type": "stream",
     "text": [
      "[Parallel(n_jobs=1)]: Done 135 out of 135 | elapsed:  3.9min finished\n"
     ]
    },
    {
     "data": {
      "text/plain": [
       "GridSearchCV(cv=5, error_score='raise-deprecating',\n",
       "       estimator=RandomForestRegressor(bootstrap=True, criterion='mse', max_depth=None,\n",
       "           max_features='auto', max_leaf_nodes=None,\n",
       "           min_impurity_decrease=0.0, min_impurity_split=None,\n",
       "           min_samples_leaf=1, min_samples_split=2,\n",
       "           min_weight_fraction_leaf=0.0, n_estimators='warn', n_jobs=None,\n",
       "           oob_score=False, random_state=1, verbose=0, warm_start=False),\n",
       "       fit_params=None, iid='warn', n_jobs=None,\n",
       "       param_grid={'n_estimators': [100, 250, 500], 'max_depth': [4, 8, 12], 'max_features': ['auto', 'sqrt', 'log2']},\n",
       "       pre_dispatch='2*n_jobs', refit=True, return_train_score='warn',\n",
       "       scoring=make_scorer(mape, greater_is_better=False), verbose=2)"
      ]
     },
     "execution_count": 38,
     "metadata": {},
     "output_type": "execute_result"
    }
   ],
   "source": [
    "# Specify parameters to tune on\n",
    "estimator = RandomForestRegressor(random_state=1)\n",
    "\n",
    "# Intialize the model\n",
    "params = dict(n_estimators=[100, 250, 500], \n",
    "              max_depth=[4, 8, 12],\n",
    "              max_features=['auto','sqrt','log2'])\n",
    "\n",
    "# Initize the grid\n",
    "grid = sgcv(estimator, \n",
    "            params,\n",
    "            scoring=make_scorer(mape, greater_is_better=False),\n",
    "            cv=5, verbose=2)\n",
    "\n",
    "# Fit the grid\n",
    "grid.fit(X_train, y_train)"
   ]
  },
  {
   "cell_type": "code",
   "execution_count": 39,
   "metadata": {},
   "outputs": [
    {
     "data": {
      "text/plain": [
       "['../models/rf.pickle']"
      ]
     },
     "execution_count": 39,
     "metadata": {},
     "output_type": "execute_result"
    }
   ],
   "source": [
    "# Select best model parameters\n",
    "model = grid.best_estimator_\n",
    "joblib.dump(model, os.path.join(MODEL_OUTPUT, 'rf.pickle'))"
   ]
  },
  {
   "cell_type": "code",
   "execution_count": 40,
   "metadata": {},
   "outputs": [],
   "source": [
    "# Training predictions\n",
    "train_pred = model.predict(X_train)\n",
    "\n",
    "# Testing predictions\n",
    "test_pred = model.predict(X_test)"
   ]
  },
  {
   "cell_type": "code",
   "execution_count": 41,
   "metadata": {},
   "outputs": [
    {
     "name": "stdout",
     "output_type": "stream",
     "text": [
      "RMSE of train is :  262.1002974052824\n",
      "RMSE of test is :  136.4879786164315\n",
      "\n",
      "MAPE of train is :  3.3840041658655644\n",
      "MAPE of test is :  17.67056101579512\n"
     ]
    }
   ],
   "source": [
    "# Display metrics\n",
    "display_metrics(y_train, train_pred, y_test, test_pred)"
   ]
  },
  {
   "cell_type": "code",
   "execution_count": 42,
   "metadata": {},
   "outputs": [],
   "source": [
    "# Record results\n",
    "model_name.append('Random Forest')\n",
    "train_rmse.append(rmse(y_train, train_pred))\n",
    "test_rmse.append(rmse(y_test, test_pred))\n",
    "train_mape.append(mape(y_train, train_pred))\n",
    "test_mape.append(mape(y_test, test_pred))"
   ]
  },
  {
   "cell_type": "markdown",
   "metadata": {},
   "source": [
    "#### Stacking"
   ]
  },
  {
   "cell_type": "code",
   "execution_count": 43,
   "metadata": {},
   "outputs": [],
   "source": [
    "# Load the pickled models\n",
    "svr_model = joblib.load(os.path.join(MODEL_OUTPUT, \"svr.pickle\"))\n",
    "rdg_model = joblib.load(os.path.join(MODEL_OUTPUT, \"rdg.pickle\"))\n",
    "rf_model = joblib.load(os.path.join(MODEL_OUTPUT, \"rf.pickle\"))\n",
    "lgb_model = joblib.load(os.path.join(MODEL_OUTPUT, \"lgb.pickle\"))\n",
    "xgb_model = joblib.load(os.path.join(MODEL_OUTPUT, \"xgb.pickle\"))"
   ]
  },
  {
   "cell_type": "code",
   "execution_count": 44,
   "metadata": {},
   "outputs": [
    {
     "data": {
      "text/plain": [
       "XGBRegressor(base_score=0.5, booster='gbtree', colsample_bylevel=1,\n",
       "       colsample_bytree=0.7, eta=0.05, gamma=0.1, learning_rate=0.1,\n",
       "       max_delta_step=0, max_depth=6, min_child_weight=1, missing=nan,\n",
       "       n_estimators=200, n_jobs=-1, nthread=None, objective='reg:tweedie',\n",
       "       random_state=1, reg_alpha=0, reg_lambda=1, scale_pos_weight=1,\n",
       "       seed=None, silent=True, subsample=0.7)"
      ]
     },
     "execution_count": 44,
     "metadata": {},
     "output_type": "execute_result"
    }
   ],
   "source": [
    "# Fit the models\n",
    "svr_model.fit(X_train, y_train)\n",
    "rdg_model.fit(X_train, y_train)\n",
    "rf_model.fit(X_train, y_train)\n",
    "lgb_model.fit(X_train, y_train)\n",
    "xgb_model.fit(X_train, y_train)"
   ]
  },
  {
   "cell_type": "code",
   "execution_count": 45,
   "metadata": {},
   "outputs": [],
   "source": [
    "# Get the predictions for train\n",
    "svr_pred_train = list(svr_model.predict(X_train))\n",
    "rdg_pred_train = list(rdg_model.predict(X_train))\n",
    "rf_pred_train = list(rf_model.predict(X_train))\n",
    "lgb_pred_train = list(lgb_model.predict(X_train))\n",
    "xgb_pred_train = list(xgb_model.predict(X_train))"
   ]
  },
  {
   "cell_type": "code",
   "execution_count": 46,
   "metadata": {},
   "outputs": [],
   "source": [
    "# Get the predictions for test\n",
    "svr_pred_test = list(svr_model.predict(X_test))\n",
    "rdg_pred_test = list(rdg_model.predict(X_test))\n",
    "rf_pred_test = list(rf_model.predict(X_test))\n",
    "lgb_pred_test = list(lgb_model.predict(X_test))\n",
    "xgb_pred_test = list(xgb_model.predict(X_test))"
   ]
  },
  {
   "cell_type": "code",
   "execution_count": 47,
   "metadata": {},
   "outputs": [],
   "source": [
    "# Make new train and test\n",
    "X_train = pd.DataFrame({'svr' : svr_pred_train, \n",
    "                        'rdg' : rdg_pred_train, \n",
    "                        'rf' : rf_pred_train, \n",
    "                        'lgb' : lgb_pred_train, \n",
    "                        'xgb' : xgb_pred_train})\n",
    "\n",
    "X_test = pd.DataFrame({'svr' : svr_pred_test, \n",
    "                       'rdg' : rdg_pred_test, \n",
    "                       'rf' : rf_pred_test, \n",
    "                       'lgb' : lgb_pred_test, \n",
    "                       'xgb' : xgb_pred_test})"
   ]
  },
  {
   "cell_type": "code",
   "execution_count": 48,
   "metadata": {},
   "outputs": [
    {
     "name": "stdout",
     "output_type": "stream",
     "text": [
      "[########################################] | 100% Completed | 23.2s\n"
     ]
    }
   ],
   "source": [
    "# Specify parameters to tune on\n",
    "params = dict(n_estimators=[50, 100, 200], \n",
    "              max_depth=[3, 6, 9],\n",
    "              gamma=[0.1, 0.2, 0.3])\n",
    "\n",
    "# Intialize the model\n",
    "estimator = XGBRegressor(random_state=1, \n",
    "                         n_jobs=-1, \n",
    "                         subsample = 0.70, \n",
    "                         colsample_bytree = 0.7, \n",
    "                         eta = 0.05, \n",
    "                         objective=\"reg:tweedie\"\n",
    "                        )\n",
    "\n",
    "# Initize the grid\n",
    "grid = dgcv(estimator, \n",
    "            params,\n",
    "            scoring=make_scorer(mape, greater_is_better=False),\n",
    "            n_jobs=-1,\n",
    "            cv=5)\n",
    "\n",
    "# Fit the grid\n",
    "with ProgressBar():\n",
    "    grid.fit(X_train, y_train)"
   ]
  },
  {
   "cell_type": "code",
   "execution_count": 49,
   "metadata": {},
   "outputs": [
    {
     "data": {
      "text/plain": [
       "['../models/stk.pickle']"
      ]
     },
     "execution_count": 49,
     "metadata": {},
     "output_type": "execute_result"
    }
   ],
   "source": [
    "# Select best model parameters\n",
    "model = grid.best_estimator_\n",
    "joblib.dump(model, os.path.join(MODEL_OUTPUT, 'stk.pickle'))"
   ]
  },
  {
   "cell_type": "code",
   "execution_count": 50,
   "metadata": {},
   "outputs": [],
   "source": [
    "# Training predictions\n",
    "train_pred = model.predict(X_train)\n",
    "\n",
    "# Testing predictions\n",
    "test_pred = model.predict(X_test)"
   ]
  },
  {
   "cell_type": "code",
   "execution_count": 51,
   "metadata": {},
   "outputs": [
    {
     "name": "stdout",
     "output_type": "stream",
     "text": [
      "RMSE of train is :  178.94603577106548\n",
      "RMSE of test is :  162.35811768260788\n",
      "\n",
      "MAPE of train is :  1.7629478353638834\n",
      "MAPE of test is :  15.828215880996952\n"
     ]
    }
   ],
   "source": [
    "# Display metrics\n",
    "display_metrics(y_train, train_pred, y_test, test_pred)"
   ]
  },
  {
   "cell_type": "code",
   "execution_count": 52,
   "metadata": {},
   "outputs": [],
   "source": [
    "# Record results\n",
    "model_name.append('Stacking')\n",
    "train_rmse.append(rmse(y_train, train_pred))\n",
    "test_rmse.append(rmse(y_test, test_pred))\n",
    "train_mape.append(mape(y_train, train_pred))\n",
    "test_mape.append(mape(y_test, test_pred))"
   ]
  },
  {
   "cell_type": "markdown",
   "metadata": {},
   "source": [
    "### Model results"
   ]
  },
  {
   "cell_type": "code",
   "execution_count": 53,
   "metadata": {},
   "outputs": [
    {
     "data": {
      "text/html": [
       "<div>\n",
       "<style scoped>\n",
       "    .dataframe tbody tr th:only-of-type {\n",
       "        vertical-align: middle;\n",
       "    }\n",
       "\n",
       "    .dataframe tbody tr th {\n",
       "        vertical-align: top;\n",
       "    }\n",
       "\n",
       "    .dataframe thead th {\n",
       "        text-align: right;\n",
       "    }\n",
       "</style>\n",
       "<table border=\"1\" class=\"dataframe\">\n",
       "  <thead>\n",
       "    <tr style=\"text-align: right;\">\n",
       "      <th></th>\n",
       "      <th>Model</th>\n",
       "      <th>Train RMSE</th>\n",
       "      <th>Test RMSE</th>\n",
       "      <th>Train MAPE</th>\n",
       "      <th>Test MAPE</th>\n",
       "    </tr>\n",
       "  </thead>\n",
       "  <tbody>\n",
       "    <tr>\n",
       "      <th>0</th>\n",
       "      <td>Ridge</td>\n",
       "      <td>2199.538882</td>\n",
       "      <td>1118.384321</td>\n",
       "      <td>30.564598</td>\n",
       "      <td>433.386537</td>\n",
       "    </tr>\n",
       "    <tr>\n",
       "      <th>1</th>\n",
       "      <td>Support Vector Machines</td>\n",
       "      <td>9393.062057</td>\n",
       "      <td>7740.109944</td>\n",
       "      <td>457.476747</td>\n",
       "      <td>4091.214372</td>\n",
       "    </tr>\n",
       "    <tr>\n",
       "      <th>2</th>\n",
       "      <td>Extreme Gradient Boosting</td>\n",
       "      <td>345.402578</td>\n",
       "      <td>132.349063</td>\n",
       "      <td>3.435205</td>\n",
       "      <td>15.681503</td>\n",
       "    </tr>\n",
       "    <tr>\n",
       "      <th>3</th>\n",
       "      <td>Light Gradient Boosting</td>\n",
       "      <td>519.586638</td>\n",
       "      <td>147.249223</td>\n",
       "      <td>6.956420</td>\n",
       "      <td>73.988317</td>\n",
       "    </tr>\n",
       "    <tr>\n",
       "      <th>4</th>\n",
       "      <td>Random Forest</td>\n",
       "      <td>262.100297</td>\n",
       "      <td>136.487979</td>\n",
       "      <td>3.384004</td>\n",
       "      <td>17.670561</td>\n",
       "    </tr>\n",
       "    <tr>\n",
       "      <th>5</th>\n",
       "      <td>Stacking</td>\n",
       "      <td>178.946036</td>\n",
       "      <td>162.358118</td>\n",
       "      <td>1.762948</td>\n",
       "      <td>15.828216</td>\n",
       "    </tr>\n",
       "  </tbody>\n",
       "</table>\n",
       "</div>"
      ],
      "text/plain": [
       "                       Model   Train RMSE    Test RMSE  Train MAPE  \\\n",
       "0                      Ridge  2199.538882  1118.384321   30.564598   \n",
       "1    Support Vector Machines  9393.062057  7740.109944  457.476747   \n",
       "2  Extreme Gradient Boosting   345.402578   132.349063    3.435205   \n",
       "3    Light Gradient Boosting   519.586638   147.249223    6.956420   \n",
       "4              Random Forest   262.100297   136.487979    3.384004   \n",
       "5                   Stacking   178.946036   162.358118    1.762948   \n",
       "\n",
       "     Test MAPE  \n",
       "0   433.386537  \n",
       "1  4091.214372  \n",
       "2    15.681503  \n",
       "3    73.988317  \n",
       "4    17.670561  \n",
       "5    15.828216  "
      ]
     },
     "execution_count": 53,
     "metadata": {},
     "output_type": "execute_result"
    }
   ],
   "source": [
    "# Concatenate results into a dataframe\n",
    "results = pd.DataFrame({'Model' : model_name, \n",
    "                        'Train RMSE' : train_rmse, \n",
    "                        'Test RMSE' : test_rmse, \n",
    "                        'Train MAPE' : train_mape, \n",
    "                        'Test MAPE' : test_mape})\n",
    "\n",
    "# Display results\n",
    "results"
   ]
  },
  {
   "cell_type": "markdown",
   "metadata": {},
   "source": [
    "Some observations:\n",
    "\n",
    "+ SVM seems to be the worst of all the models trained.\n",
    "+ All tree based models perform better suggesting maybe a nonlinear relationship is present between the target and the independent variables.\n",
    "+ XGBoost and Random Forest on the surface gives good results. However, It seems to be highly unstable owing to the high difference in train and test error metrics.\n",
    "+ Stacking gives the most stable of all models, if you look at the RMSE. The values of train and test RMSE are closeby. However, looking at MAPE one may think that there could be a cause of overfitting. This necessarily may not be a deal breaker as we are already testing on another metric in which it shows good results. Also, the model has been evaluated on a 5 fold cross validation. \n",
    "+ Stacking is the recommended solution."
   ]
  },
  {
   "cell_type": "markdown",
   "metadata": {},
   "source": [
    "### Model analysis\n"
   ]
  },
  {
   "cell_type": "markdown",
   "metadata": {},
   "source": [
    "#### Analysis of features of best model\n",
    "\n",
    "The best model is Stacking via an XGBoost. We have fed predictions of Ridge, SVM, XGBoost, LightGBM and Random Forest as inputs to another XGBoost model. Let us analyze the feature importance of this model: "
   ]
  },
  {
   "cell_type": "code",
   "execution_count": 54,
   "metadata": {},
   "outputs": [
    {
     "data": {
      "image/png": "[encoded data removed]",
      "text/plain": [
       "<matplotlib.figure.Figure at 0x123ce8160>"
      ]
     },
     "metadata": {},
     "output_type": "display_data"
    }
   ],
   "source": [
    "plot_importance(model);"
   ]
  },
  {
   "cell_type": "markdown",
   "metadata": {},
   "source": [
    "The stacking model gives more importance to the predictions from the Random Forest model, as can be seen above, followed by XGBoost and LightGBM. "
   ]
  },
  {
   "cell_type": "markdown",
   "metadata": {},
   "source": [
    "#### Analysis of hyperparameters of best model"
   ]
  },
  {
   "cell_type": "code",
   "execution_count": 55,
   "metadata": {
    "scrolled": false
   },
   "outputs": [
    {
     "data": {
      "image/png": "[encoded data removed]",
      "text/plain": [
       "<matplotlib.figure.Figure at 0x123e03748>"
      ]
     },
     "metadata": {},
     "output_type": "display_data"
    }
   ],
   "source": [
    "cv_results = pd.DataFrame(grid.cv_results_)\n",
    "cv_results.copy().pivot_table(index='param_n_estimators',\n",
    "                              columns=['param_max_depth','param_gamma'],\n",
    "                              values='mean_test_score').plot(rot=90,\n",
    "                                                             colormap='Paired',\n",
    "                                                             marker='o').legend(loc='center left',\n",
    "                                                                                title='Max Depth and Max Features',\n",
    "                                                                                bbox_to_anchor=(1, 0.5))\n",
    "plt.xlabel('Number of Trees')\n",
    "plt.ylabel('Mean Test Score')\n",
    "plt.suptitle('Grid Search Cross Validation Results');"
   ]
  },
  {
   "cell_type": "markdown",
   "metadata": {},
   "source": [
    "Boosting performance does not improve beyond 100 rounds as can be seen above. However, we can see the performance is **marginally** better with **higher depth (9)** and **higher gamma (0.3)**."
   ]
  }
 ],
 "metadata": {
  "kernelspec": {
   "display_name": "Python 3",
   "language": "python",
   "name": "python3"
  },
  "language_info": {
   "codemirror_mode": {
    "name": "ipython",
    "version": 3
   },
   "file_extension": ".py",
   "mimetype": "text/x-python",
   "name": "python",
   "nbconvert_exporter": "python",
   "pygments_lexer": "ipython3",
   "version": "3.6.2"
  },
  "toc": {
   "base_numbering": 1,
   "nav_menu": {},
   "number_sections": true,
   "sideBar": true,
   "skip_h1_title": true,
   "title_cell": "Table of Contents",
   "title_sidebar": "Contents",
   "toc_cell": true,
   "toc_position": {},
   "toc_section_display": true,
   "toc_window_display": true
  }
 },
 "nbformat": 4,
 "nbformat_minor": 2
}
